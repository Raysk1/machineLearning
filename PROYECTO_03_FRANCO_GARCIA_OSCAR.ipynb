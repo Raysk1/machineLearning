{
  "nbformat": 4,
  "nbformat_minor": 0,
  "metadata": {
    "colab": {
      "name": "PROYECTO_03_FRANCO_GARCIA_OSCAR.ipynb",
      "provenance": [],
      "mount_file_id": "1ef7Pq0tUNcJ27Q_9vTYefOOOoiP5WO2O",
      "authorship_tag": "ABX9TyNJbHUku32o89u2KgeKcL9v",
      "include_colab_link": true
    },
    "kernelspec": {
      "name": "python3",
      "display_name": "Python 3"
    },
    "language_info": {
      "name": "python"
    }
  },
  "cells": [
    {
      "cell_type": "markdown",
      "metadata": {
        "id": "view-in-github",
        "colab_type": "text"
      },
      "source": [
        "<a href=\"https://colab.research.google.com/github/Raysk1/machineLearning/blob/main/PROYECTO_03_FRANCO_GARCIA_OSCAR.ipynb\" target=\"_parent\"><img src=\"https://colab.research.google.com/assets/colab-badge.svg\" alt=\"Open In Colab\"/></a>"
      ]
    },
    {
      "cell_type": "markdown",
      "source": [
        "# Importando librerias"
      ],
      "metadata": {
        "id": "myrerfKpWtu1"
      }
    },
    {
      "cell_type": "code",
      "execution_count": 41,
      "metadata": {
        "id": "tov8S1RutukV",
        "colab": {
          "base_uri": "https://localhost:8080/"
        },
        "outputId": "fcd3c23b-7556-4f5b-f31e-e72e1f0e3c6b"
      },
      "outputs": [
        {
          "output_type": "stream",
          "name": "stdout",
          "text": [
            "Looking in indexes: https://pypi.org/simple, https://us-python.pkg.dev/colab-wheels/public/simple/\n",
            "Requirement already satisfied: requests in /usr/local/lib/python3.7/dist-packages (2.23.0)\n",
            "Requirement already satisfied: urllib3!=1.25.0,!=1.25.1,<1.26,>=1.21.1 in /usr/local/lib/python3.7/dist-packages (from requests) (1.24.3)\n",
            "Requirement already satisfied: chardet<4,>=3.0.2 in /usr/local/lib/python3.7/dist-packages (from requests) (3.0.4)\n",
            "Requirement already satisfied: certifi>=2017.4.17 in /usr/local/lib/python3.7/dist-packages (from requests) (2022.6.15)\n",
            "Requirement already satisfied: idna<3,>=2.5 in /usr/local/lib/python3.7/dist-packages (from requests) (2.10)\n"
          ]
        }
      ],
      "source": [
        "import pandas as pd\n",
        "import numpy as np\n",
        "from sklearn.tree import DecisionTreeClassifier\n",
        "from sklearn.model_selection import train_test_split \n",
        "from sklearn import metrics \n",
        "import pickle\n",
        "!pip install requests\n",
        "import requests as r"
      ]
    },
    {
      "cell_type": "markdown",
      "source": [
        "#Comprobando el dataset"
      ],
      "metadata": {
        "id": "t57L4O1_W1xy"
      }
    },
    {
      "cell_type": "code",
      "source": [
        "#cargando el dataset\n",
        "df = pd.read_csv(\"/content/cleaned.csv\")\n",
        "df.head()"
      ],
      "metadata": {
        "colab": {
          "base_uri": "https://localhost:8080/",
          "height": 206
        },
        "id": "bPG7nU86uDTg",
        "outputId": "52df5b76-c566-4e33-a2fa-afafdf1ca474"
      },
      "execution_count": 42,
      "outputs": [
        {
          "output_type": "execute_result",
          "data": {
            "text/plain": [
              "   track_id genre_top  acousticness  danceability    energy  instrumentalness  \\\n",
              "0       153      Rock      0.988306      0.255661  0.979774          0.973006   \n",
              "1       154      Rock      0.970135      0.352946  0.023852          0.957113   \n",
              "2       155      Rock      0.981657      0.142249  0.912122          0.967294   \n",
              "3       169      Rock      0.989141      0.225978  0.722835          0.263076   \n",
              "4       170      Rock      0.886660      0.298518  0.744333          0.920950   \n",
              "\n",
              "   liveness  speechiness   tempo   valence  \n",
              "0  0.121342     0.051740  90.241  0.034018  \n",
              "1  0.113261     0.032177  53.758  0.035632  \n",
              "2  0.363510     0.087527  91.912  0.034325  \n",
              "3  0.092371     0.053406  94.322  0.028347  \n",
              "4  0.139587     0.088781  97.880  0.073548  "
            ],
            "text/html": [
              "\n",
              "  <div id=\"df-8dce18ad-541f-41f9-a69b-5abb54a80efb\">\n",
              "    <div class=\"colab-df-container\">\n",
              "      <div>\n",
              "<style scoped>\n",
              "    .dataframe tbody tr th:only-of-type {\n",
              "        vertical-align: middle;\n",
              "    }\n",
              "\n",
              "    .dataframe tbody tr th {\n",
              "        vertical-align: top;\n",
              "    }\n",
              "\n",
              "    .dataframe thead th {\n",
              "        text-align: right;\n",
              "    }\n",
              "</style>\n",
              "<table border=\"1\" class=\"dataframe\">\n",
              "  <thead>\n",
              "    <tr style=\"text-align: right;\">\n",
              "      <th></th>\n",
              "      <th>track_id</th>\n",
              "      <th>genre_top</th>\n",
              "      <th>acousticness</th>\n",
              "      <th>danceability</th>\n",
              "      <th>energy</th>\n",
              "      <th>instrumentalness</th>\n",
              "      <th>liveness</th>\n",
              "      <th>speechiness</th>\n",
              "      <th>tempo</th>\n",
              "      <th>valence</th>\n",
              "    </tr>\n",
              "  </thead>\n",
              "  <tbody>\n",
              "    <tr>\n",
              "      <th>0</th>\n",
              "      <td>153</td>\n",
              "      <td>Rock</td>\n",
              "      <td>0.988306</td>\n",
              "      <td>0.255661</td>\n",
              "      <td>0.979774</td>\n",
              "      <td>0.973006</td>\n",
              "      <td>0.121342</td>\n",
              "      <td>0.051740</td>\n",
              "      <td>90.241</td>\n",
              "      <td>0.034018</td>\n",
              "    </tr>\n",
              "    <tr>\n",
              "      <th>1</th>\n",
              "      <td>154</td>\n",
              "      <td>Rock</td>\n",
              "      <td>0.970135</td>\n",
              "      <td>0.352946</td>\n",
              "      <td>0.023852</td>\n",
              "      <td>0.957113</td>\n",
              "      <td>0.113261</td>\n",
              "      <td>0.032177</td>\n",
              "      <td>53.758</td>\n",
              "      <td>0.035632</td>\n",
              "    </tr>\n",
              "    <tr>\n",
              "      <th>2</th>\n",
              "      <td>155</td>\n",
              "      <td>Rock</td>\n",
              "      <td>0.981657</td>\n",
              "      <td>0.142249</td>\n",
              "      <td>0.912122</td>\n",
              "      <td>0.967294</td>\n",
              "      <td>0.363510</td>\n",
              "      <td>0.087527</td>\n",
              "      <td>91.912</td>\n",
              "      <td>0.034325</td>\n",
              "    </tr>\n",
              "    <tr>\n",
              "      <th>3</th>\n",
              "      <td>169</td>\n",
              "      <td>Rock</td>\n",
              "      <td>0.989141</td>\n",
              "      <td>0.225978</td>\n",
              "      <td>0.722835</td>\n",
              "      <td>0.263076</td>\n",
              "      <td>0.092371</td>\n",
              "      <td>0.053406</td>\n",
              "      <td>94.322</td>\n",
              "      <td>0.028347</td>\n",
              "    </tr>\n",
              "    <tr>\n",
              "      <th>4</th>\n",
              "      <td>170</td>\n",
              "      <td>Rock</td>\n",
              "      <td>0.886660</td>\n",
              "      <td>0.298518</td>\n",
              "      <td>0.744333</td>\n",
              "      <td>0.920950</td>\n",
              "      <td>0.139587</td>\n",
              "      <td>0.088781</td>\n",
              "      <td>97.880</td>\n",
              "      <td>0.073548</td>\n",
              "    </tr>\n",
              "  </tbody>\n",
              "</table>\n",
              "</div>\n",
              "      <button class=\"colab-df-convert\" onclick=\"convertToInteractive('df-8dce18ad-541f-41f9-a69b-5abb54a80efb')\"\n",
              "              title=\"Convert this dataframe to an interactive table.\"\n",
              "              style=\"display:none;\">\n",
              "        \n",
              "  <svg xmlns=\"http://www.w3.org/2000/svg\" height=\"24px\"viewBox=\"0 0 24 24\"\n",
              "       width=\"24px\">\n",
              "    <path d=\"M0 0h24v24H0V0z\" fill=\"none\"/>\n",
              "    <path d=\"M18.56 5.44l.94 2.06.94-2.06 2.06-.94-2.06-.94-.94-2.06-.94 2.06-2.06.94zm-11 1L8.5 8.5l.94-2.06 2.06-.94-2.06-.94L8.5 2.5l-.94 2.06-2.06.94zm10 10l.94 2.06.94-2.06 2.06-.94-2.06-.94-.94-2.06-.94 2.06-2.06.94z\"/><path d=\"M17.41 7.96l-1.37-1.37c-.4-.4-.92-.59-1.43-.59-.52 0-1.04.2-1.43.59L10.3 9.45l-7.72 7.72c-.78.78-.78 2.05 0 2.83L4 21.41c.39.39.9.59 1.41.59.51 0 1.02-.2 1.41-.59l7.78-7.78 2.81-2.81c.8-.78.8-2.07 0-2.86zM5.41 20L4 18.59l7.72-7.72 1.47 1.35L5.41 20z\"/>\n",
              "  </svg>\n",
              "      </button>\n",
              "      \n",
              "  <style>\n",
              "    .colab-df-container {\n",
              "      display:flex;\n",
              "      flex-wrap:wrap;\n",
              "      gap: 12px;\n",
              "    }\n",
              "\n",
              "    .colab-df-convert {\n",
              "      background-color: #E8F0FE;\n",
              "      border: none;\n",
              "      border-radius: 50%;\n",
              "      cursor: pointer;\n",
              "      display: none;\n",
              "      fill: #1967D2;\n",
              "      height: 32px;\n",
              "      padding: 0 0 0 0;\n",
              "      width: 32px;\n",
              "    }\n",
              "\n",
              "    .colab-df-convert:hover {\n",
              "      background-color: #E2EBFA;\n",
              "      box-shadow: 0px 1px 2px rgba(60, 64, 67, 0.3), 0px 1px 3px 1px rgba(60, 64, 67, 0.15);\n",
              "      fill: #174EA6;\n",
              "    }\n",
              "\n",
              "    [theme=dark] .colab-df-convert {\n",
              "      background-color: #3B4455;\n",
              "      fill: #D2E3FC;\n",
              "    }\n",
              "\n",
              "    [theme=dark] .colab-df-convert:hover {\n",
              "      background-color: #434B5C;\n",
              "      box-shadow: 0px 1px 3px 1px rgba(0, 0, 0, 0.15);\n",
              "      filter: drop-shadow(0px 1px 2px rgba(0, 0, 0, 0.3));\n",
              "      fill: #FFFFFF;\n",
              "    }\n",
              "  </style>\n",
              "\n",
              "      <script>\n",
              "        const buttonEl =\n",
              "          document.querySelector('#df-8dce18ad-541f-41f9-a69b-5abb54a80efb button.colab-df-convert');\n",
              "        buttonEl.style.display =\n",
              "          google.colab.kernel.accessAllowed ? 'block' : 'none';\n",
              "\n",
              "        async function convertToInteractive(key) {\n",
              "          const element = document.querySelector('#df-8dce18ad-541f-41f9-a69b-5abb54a80efb');\n",
              "          const dataTable =\n",
              "            await google.colab.kernel.invokeFunction('convertToInteractive',\n",
              "                                                     [key], {});\n",
              "          if (!dataTable) return;\n",
              "\n",
              "          const docLinkHtml = 'Like what you see? Visit the ' +\n",
              "            '<a target=\"_blank\" href=https://colab.research.google.com/notebooks/data_table.ipynb>data table notebook</a>'\n",
              "            + ' to learn more about interactive tables.';\n",
              "          element.innerHTML = '';\n",
              "          dataTable['output_type'] = 'display_data';\n",
              "          await google.colab.output.renderOutput(dataTable, element);\n",
              "          const docLink = document.createElement('div');\n",
              "          docLink.innerHTML = docLinkHtml;\n",
              "          element.appendChild(docLink);\n",
              "        }\n",
              "      </script>\n",
              "    </div>\n",
              "  </div>\n",
              "  "
            ]
          },
          "metadata": {},
          "execution_count": 42
        }
      ]
    },
    {
      "cell_type": "code",
      "source": [
        "#Numero de filas y columnas\n",
        "print(\"columnas = \", df.shape[1])\n",
        "print(\"filas = \", df.shape[0])"
      ],
      "metadata": {
        "colab": {
          "base_uri": "https://localhost:8080/"
        },
        "id": "oz9vXWtkukcO",
        "outputId": "23a6cc3a-4c79-4913-94d8-47d2a9f6b4ef"
      },
      "execution_count": 43,
      "outputs": [
        {
          "output_type": "stream",
          "name": "stdout",
          "text": [
            "columnas =  10\n",
            "filas =  4802\n"
          ]
        }
      ]
    },
    {
      "cell_type": "code",
      "source": [
        "#Calculando la media, mediana, maximo, minimo, etc\n",
        "df.describe()"
      ],
      "metadata": {
        "colab": {
          "base_uri": "https://localhost:8080/",
          "height": 300
        },
        "id": "pHxMkAR3vZNw",
        "outputId": "142948d1-a235-49e3-f1f4-e2a4e184665c"
      },
      "execution_count": 44,
      "outputs": [
        {
          "output_type": "execute_result",
          "data": {
            "text/plain": [
              "            track_id  acousticness  danceability       energy  \\\n",
              "count    4802.000000  4.802000e+03   4802.000000  4802.000000   \n",
              "mean    30164.871720  4.870600e-01      0.436556     0.625126   \n",
              "std     28592.013796  3.681396e-01      0.183502     0.244051   \n",
              "min         2.000000  9.491000e-07      0.051307     0.000279   \n",
              "25%      7494.250000  8.351236e-02      0.296047     0.450757   \n",
              "50%     20723.500000  5.156888e-01      0.419447     0.648374   \n",
              "75%     44240.750000  8.555765e-01      0.565339     0.837016   \n",
              "max    124722.000000  9.957965e-01      0.961871     0.999768   \n",
              "\n",
              "       instrumentalness     liveness  speechiness        tempo      valence  \n",
              "count       4802.000000  4802.000000  4802.000000  4802.000000  4802.000000  \n",
              "mean           0.604096     0.187997     0.104877   126.687944     0.453413  \n",
              "std            0.376487     0.150562     0.145934    34.002473     0.266632  \n",
              "min            0.000000     0.025297     0.023234    29.093000     0.014392  \n",
              "25%            0.164972     0.104052     0.036897    98.000750     0.224617  \n",
              "50%            0.808752     0.123080     0.049594   124.625500     0.446240  \n",
              "75%            0.915472     0.215151     0.088290   151.450000     0.666914  \n",
              "max            0.993134     0.971392     0.966177   250.059000     0.983649  "
            ],
            "text/html": [
              "\n",
              "  <div id=\"df-8e2cb043-d516-485a-ae52-13646b5a4c90\">\n",
              "    <div class=\"colab-df-container\">\n",
              "      <div>\n",
              "<style scoped>\n",
              "    .dataframe tbody tr th:only-of-type {\n",
              "        vertical-align: middle;\n",
              "    }\n",
              "\n",
              "    .dataframe tbody tr th {\n",
              "        vertical-align: top;\n",
              "    }\n",
              "\n",
              "    .dataframe thead th {\n",
              "        text-align: right;\n",
              "    }\n",
              "</style>\n",
              "<table border=\"1\" class=\"dataframe\">\n",
              "  <thead>\n",
              "    <tr style=\"text-align: right;\">\n",
              "      <th></th>\n",
              "      <th>track_id</th>\n",
              "      <th>acousticness</th>\n",
              "      <th>danceability</th>\n",
              "      <th>energy</th>\n",
              "      <th>instrumentalness</th>\n",
              "      <th>liveness</th>\n",
              "      <th>speechiness</th>\n",
              "      <th>tempo</th>\n",
              "      <th>valence</th>\n",
              "    </tr>\n",
              "  </thead>\n",
              "  <tbody>\n",
              "    <tr>\n",
              "      <th>count</th>\n",
              "      <td>4802.000000</td>\n",
              "      <td>4.802000e+03</td>\n",
              "      <td>4802.000000</td>\n",
              "      <td>4802.000000</td>\n",
              "      <td>4802.000000</td>\n",
              "      <td>4802.000000</td>\n",
              "      <td>4802.000000</td>\n",
              "      <td>4802.000000</td>\n",
              "      <td>4802.000000</td>\n",
              "    </tr>\n",
              "    <tr>\n",
              "      <th>mean</th>\n",
              "      <td>30164.871720</td>\n",
              "      <td>4.870600e-01</td>\n",
              "      <td>0.436556</td>\n",
              "      <td>0.625126</td>\n",
              "      <td>0.604096</td>\n",
              "      <td>0.187997</td>\n",
              "      <td>0.104877</td>\n",
              "      <td>126.687944</td>\n",
              "      <td>0.453413</td>\n",
              "    </tr>\n",
              "    <tr>\n",
              "      <th>std</th>\n",
              "      <td>28592.013796</td>\n",
              "      <td>3.681396e-01</td>\n",
              "      <td>0.183502</td>\n",
              "      <td>0.244051</td>\n",
              "      <td>0.376487</td>\n",
              "      <td>0.150562</td>\n",
              "      <td>0.145934</td>\n",
              "      <td>34.002473</td>\n",
              "      <td>0.266632</td>\n",
              "    </tr>\n",
              "    <tr>\n",
              "      <th>min</th>\n",
              "      <td>2.000000</td>\n",
              "      <td>9.491000e-07</td>\n",
              "      <td>0.051307</td>\n",
              "      <td>0.000279</td>\n",
              "      <td>0.000000</td>\n",
              "      <td>0.025297</td>\n",
              "      <td>0.023234</td>\n",
              "      <td>29.093000</td>\n",
              "      <td>0.014392</td>\n",
              "    </tr>\n",
              "    <tr>\n",
              "      <th>25%</th>\n",
              "      <td>7494.250000</td>\n",
              "      <td>8.351236e-02</td>\n",
              "      <td>0.296047</td>\n",
              "      <td>0.450757</td>\n",
              "      <td>0.164972</td>\n",
              "      <td>0.104052</td>\n",
              "      <td>0.036897</td>\n",
              "      <td>98.000750</td>\n",
              "      <td>0.224617</td>\n",
              "    </tr>\n",
              "    <tr>\n",
              "      <th>50%</th>\n",
              "      <td>20723.500000</td>\n",
              "      <td>5.156888e-01</td>\n",
              "      <td>0.419447</td>\n",
              "      <td>0.648374</td>\n",
              "      <td>0.808752</td>\n",
              "      <td>0.123080</td>\n",
              "      <td>0.049594</td>\n",
              "      <td>124.625500</td>\n",
              "      <td>0.446240</td>\n",
              "    </tr>\n",
              "    <tr>\n",
              "      <th>75%</th>\n",
              "      <td>44240.750000</td>\n",
              "      <td>8.555765e-01</td>\n",
              "      <td>0.565339</td>\n",
              "      <td>0.837016</td>\n",
              "      <td>0.915472</td>\n",
              "      <td>0.215151</td>\n",
              "      <td>0.088290</td>\n",
              "      <td>151.450000</td>\n",
              "      <td>0.666914</td>\n",
              "    </tr>\n",
              "    <tr>\n",
              "      <th>max</th>\n",
              "      <td>124722.000000</td>\n",
              "      <td>9.957965e-01</td>\n",
              "      <td>0.961871</td>\n",
              "      <td>0.999768</td>\n",
              "      <td>0.993134</td>\n",
              "      <td>0.971392</td>\n",
              "      <td>0.966177</td>\n",
              "      <td>250.059000</td>\n",
              "      <td>0.983649</td>\n",
              "    </tr>\n",
              "  </tbody>\n",
              "</table>\n",
              "</div>\n",
              "      <button class=\"colab-df-convert\" onclick=\"convertToInteractive('df-8e2cb043-d516-485a-ae52-13646b5a4c90')\"\n",
              "              title=\"Convert this dataframe to an interactive table.\"\n",
              "              style=\"display:none;\">\n",
              "        \n",
              "  <svg xmlns=\"http://www.w3.org/2000/svg\" height=\"24px\"viewBox=\"0 0 24 24\"\n",
              "       width=\"24px\">\n",
              "    <path d=\"M0 0h24v24H0V0z\" fill=\"none\"/>\n",
              "    <path d=\"M18.56 5.44l.94 2.06.94-2.06 2.06-.94-2.06-.94-.94-2.06-.94 2.06-2.06.94zm-11 1L8.5 8.5l.94-2.06 2.06-.94-2.06-.94L8.5 2.5l-.94 2.06-2.06.94zm10 10l.94 2.06.94-2.06 2.06-.94-2.06-.94-.94-2.06-.94 2.06-2.06.94z\"/><path d=\"M17.41 7.96l-1.37-1.37c-.4-.4-.92-.59-1.43-.59-.52 0-1.04.2-1.43.59L10.3 9.45l-7.72 7.72c-.78.78-.78 2.05 0 2.83L4 21.41c.39.39.9.59 1.41.59.51 0 1.02-.2 1.41-.59l7.78-7.78 2.81-2.81c.8-.78.8-2.07 0-2.86zM5.41 20L4 18.59l7.72-7.72 1.47 1.35L5.41 20z\"/>\n",
              "  </svg>\n",
              "      </button>\n",
              "      \n",
              "  <style>\n",
              "    .colab-df-container {\n",
              "      display:flex;\n",
              "      flex-wrap:wrap;\n",
              "      gap: 12px;\n",
              "    }\n",
              "\n",
              "    .colab-df-convert {\n",
              "      background-color: #E8F0FE;\n",
              "      border: none;\n",
              "      border-radius: 50%;\n",
              "      cursor: pointer;\n",
              "      display: none;\n",
              "      fill: #1967D2;\n",
              "      height: 32px;\n",
              "      padding: 0 0 0 0;\n",
              "      width: 32px;\n",
              "    }\n",
              "\n",
              "    .colab-df-convert:hover {\n",
              "      background-color: #E2EBFA;\n",
              "      box-shadow: 0px 1px 2px rgba(60, 64, 67, 0.3), 0px 1px 3px 1px rgba(60, 64, 67, 0.15);\n",
              "      fill: #174EA6;\n",
              "    }\n",
              "\n",
              "    [theme=dark] .colab-df-convert {\n",
              "      background-color: #3B4455;\n",
              "      fill: #D2E3FC;\n",
              "    }\n",
              "\n",
              "    [theme=dark] .colab-df-convert:hover {\n",
              "      background-color: #434B5C;\n",
              "      box-shadow: 0px 1px 3px 1px rgba(0, 0, 0, 0.15);\n",
              "      filter: drop-shadow(0px 1px 2px rgba(0, 0, 0, 0.3));\n",
              "      fill: #FFFFFF;\n",
              "    }\n",
              "  </style>\n",
              "\n",
              "      <script>\n",
              "        const buttonEl =\n",
              "          document.querySelector('#df-8e2cb043-d516-485a-ae52-13646b5a4c90 button.colab-df-convert');\n",
              "        buttonEl.style.display =\n",
              "          google.colab.kernel.accessAllowed ? 'block' : 'none';\n",
              "\n",
              "        async function convertToInteractive(key) {\n",
              "          const element = document.querySelector('#df-8e2cb043-d516-485a-ae52-13646b5a4c90');\n",
              "          const dataTable =\n",
              "            await google.colab.kernel.invokeFunction('convertToInteractive',\n",
              "                                                     [key], {});\n",
              "          if (!dataTable) return;\n",
              "\n",
              "          const docLinkHtml = 'Like what you see? Visit the ' +\n",
              "            '<a target=\"_blank\" href=https://colab.research.google.com/notebooks/data_table.ipynb>data table notebook</a>'\n",
              "            + ' to learn more about interactive tables.';\n",
              "          element.innerHTML = '';\n",
              "          dataTable['output_type'] = 'display_data';\n",
              "          await google.colab.output.renderOutput(dataTable, element);\n",
              "          const docLink = document.createElement('div');\n",
              "          docLink.innerHTML = docLinkHtml;\n",
              "          element.appendChild(docLink);\n",
              "        }\n",
              "      </script>\n",
              "    </div>\n",
              "  </div>\n",
              "  "
            ]
          },
          "metadata": {},
          "execution_count": 44
        }
      ]
    },
    {
      "cell_type": "markdown",
      "source": [
        "#Entrenando al modelo"
      ],
      "metadata": {
        "id": "MN9OgPDJW7Dx"
      }
    },
    {
      "cell_type": "code",
      "source": [
        "#dividiendo el dataset en features y variable objetivo\n",
        "feature_cols = [\"acousticness\",\"danceability\",\"energy\",\"instrumentalness\",\"liveness\",\"speechiness\",\"tempo\",\"valence\"]\n",
        "X = df[feature_cols] # Features\n",
        "y = df.genre_top # variable objetivo"
      ],
      "metadata": {
        "id": "XZnIwN5cvtCA"
      },
      "execution_count": 45,
      "outputs": []
    },
    {
      "cell_type": "code",
      "source": [
        "#Dividiendo el dateaset en entrenamiento y pruebas\n",
        "X_train, X_test, y_train, y_test = train_test_split(X, y, test_size=0.3, random_state=1) # 70% entrenamiento 30% pruebas"
      ],
      "metadata": {
        "id": "ycjVecMH16y0"
      },
      "execution_count": 46,
      "outputs": []
    },
    {
      "cell_type": "code",
      "source": [
        "#Configurando el modelo\n",
        "dtc = DecisionTreeClassifier(criterion=\"entropy\", max_depth=3)\n",
        "\n",
        "# entrenando el Decision Tree Classifer\n",
        "dtc = dtc.fit(X_train.values,y_train.values)\n",
        "\n",
        "#Calculando las predicciones\n",
        "y_pred = dtc.predict(X_test.values)"
      ],
      "metadata": {
        "id": "eXuVxGJI2ps1"
      },
      "execution_count": 65,
      "outputs": []
    },
    {
      "cell_type": "code",
      "source": [
        "#Presicion del modelo\n",
        "print(\"Accuracy:\",metrics.accuracy_score(y_test, y_pred))"
      ],
      "metadata": {
        "colab": {
          "base_uri": "https://localhost:8080/"
        },
        "id": "EF8nc_-42tFB",
        "outputId": "c6a1f4f7-9562-468d-f886-2d6bab479e92"
      },
      "execution_count": 66,
      "outputs": [
        {
          "output_type": "stream",
          "name": "stdout",
          "text": [
            "Accuracy: 0.9000693962526024\n"
          ]
        }
      ]
    },
    {
      "cell_type": "markdown",
      "source": [
        "#Exportacion del modelo"
      ],
      "metadata": {
        "id": "uKevPnV8XM_D"
      }
    },
    {
      "cell_type": "code",
      "source": [
        "#Exportando el modelo con pickle\n",
        "pickle.dump(dtc, open(\"Genre_predict.pkl\",\"wb\"))\n"
      ],
      "metadata": {
        "id": "EK9sYAn922EI"
      },
      "execution_count": 67,
      "outputs": []
    },
    {
      "cell_type": "markdown",
      "source": [
        "#Prueba del endpoint\n"
      ],
      "metadata": {
        "id": "R3GrfyxOXQYb"
      }
    },
    {
      "cell_type": "code",
      "source": [
        "#Probando la implementacion de el endpoint con fastApi\n",
        "#En este caso los datos en keys fueron tomados de la primer fila del dataset \n",
        "keys = {\"acousticness\" : 0.988306,\n",
        "        \"danceability\" : 0.255661,\n",
        "        \"energy\" : 0.979774,\n",
        "        \"instrumentalness\" : 0.973006,\n",
        "        \"liveness\" : 0.121342,\n",
        "        \"speechiness\" : 0.051740,\n",
        "        \"tempo\" : 90.241,\n",
        "        \"valence\" : 0.034018}\n",
        "prediction = r.get(\"http://1a23-34-125-79-117.ngrok.io\", params=keys)"
      ],
      "metadata": {
        "id": "illxcxppFbIt"
      },
      "execution_count": 93,
      "outputs": []
    },
    {
      "cell_type": "code",
      "source": [
        "#Mostramos la prediccion\n",
        "genre_predicted = prediction.json()\n",
        "print(\"El genero predicho es:\", genre_predicted[\"prediction\"])"
      ],
      "metadata": {
        "colab": {
          "base_uri": "https://localhost:8080/"
        },
        "id": "Y35omOKELKdt",
        "outputId": "0be00fd0-bd13-4ac0-e4e3-39d7b392bca3"
      },
      "execution_count": 94,
      "outputs": [
        {
          "output_type": "stream",
          "name": "stdout",
          "text": [
            "El genero predicho es: Rock\n"
          ]
        }
      ]
    },
    {
      "cell_type": "markdown",
      "source": [
        ""
      ],
      "metadata": {
        "id": "yjqqnKVq937B"
      }
    }
  ]
}