{
  "nbformat": 4,
  "nbformat_minor": 0,
  "metadata": {
    "colab": {
      "name": "PROYECTO_03_FRANCO_GARCIA_OSCAR.ipynb",
      "provenance": [],
      "mount_file_id": "1ef7Pq0tUNcJ27Q_9vTYefOOOoiP5WO2O",
      "authorship_tag": "ABX9TyNLmETXCifh6J7EVPS871mP",
      "include_colab_link": true
    },
    "kernelspec": {
      "name": "python3",
      "display_name": "Python 3"
    },
    "language_info": {
      "name": "python"
    }
  },
  "cells": [
    {
      "cell_type": "markdown",
      "metadata": {
        "id": "view-in-github",
        "colab_type": "text"
      },
      "source": [
        "<a href=\"https://colab.research.google.com/github/Raysk1/machineLearning/blob/main/PROYECTO_03_FRANCO_GARCIA_OSCAR.ipynb\" target=\"_parent\"><img src=\"https://colab.research.google.com/assets/colab-badge.svg\" alt=\"Open In Colab\"/></a>"
      ]
    },
    {
      "cell_type": "markdown",
      "source": [
        "# Importando librerias"
      ],
      "metadata": {
        "id": "myrerfKpWtu1"
      }
    },
    {
      "cell_type": "code",
      "source": [
        "!pip install pyngrok\n",
        "!pip install ngrok\n",
        "!pip install uvicorn\n",
        "!pip install nest-asyncio\n",
        "!pip install FastAPI"
      ],
      "metadata": {
        "colab": {
          "base_uri": "https://localhost:8080/"
        },
        "id": "fe2-xTSjjii6",
        "outputId": "216c2851-f0b3-4f53-b4cb-07613f22fba2"
      },
      "execution_count": 1,
      "outputs": [
        {
          "output_type": "stream",
          "name": "stdout",
          "text": [
            "Looking in indexes: https://pypi.org/simple, https://us-python.pkg.dev/colab-wheels/public/simple/\n",
            "Collecting pyngrok\n",
            "  Downloading pyngrok-5.1.0.tar.gz (745 kB)\n",
            "\u001b[K     |████████████████████████████████| 745 kB 24.4 MB/s \n",
            "\u001b[?25hRequirement already satisfied: PyYAML in /usr/local/lib/python3.7/dist-packages (from pyngrok) (3.13)\n",
            "Building wheels for collected packages: pyngrok\n",
            "  Building wheel for pyngrok (setup.py) ... \u001b[?25l\u001b[?25hdone\n",
            "  Created wheel for pyngrok: filename=pyngrok-5.1.0-py3-none-any.whl size=19007 sha256=089ffcaa82a9bc1aa9e7419dde56dc5c4c386d4e351325b04d52987ca6033c45\n",
            "  Stored in directory: /root/.cache/pip/wheels/bf/e6/af/ccf6598ecefecd44104069371795cb9b3afbcd16987f6ccfb3\n",
            "Successfully built pyngrok\n",
            "Installing collected packages: pyngrok\n",
            "Successfully installed pyngrok-5.1.0\n",
            "Looking in indexes: https://pypi.org/simple, https://us-python.pkg.dev/colab-wheels/public/simple/\n",
            "Collecting ngrok\n",
            "  Downloading ngrok-0.1.6.tar.gz (3.5 kB)\n",
            "Collecting ping\n",
            "  Downloading ping-0.2.tar.gz (10 kB)\n",
            "\u001b[33mWARNING: Discarding https://files.pythonhosted.org/packages/03/ac/9a3f332f8d7d27cd8929922b2e225842c1623760364b37fc79dc0f65e77d/ping-0.2.tar.gz#sha256=ecb32294c2af8ae075de4a3743f568db376480ad81c2e010a7f1ce1cee7b030f (from https://pypi.org/simple/ping/). Command errored out with exit status 1: python setup.py egg_info Check the logs for full command output.\u001b[0m\n",
            "  Downloading ping-0.1.tar.gz (10 kB)\n",
            "\u001b[33mWARNING: Discarding https://files.pythonhosted.org/packages/e6/e1/0d6a865e59fc27e13c0f39afea889f34a62b209046bfb863b62b614e5a3a/ping-0.1.tar.gz#sha256=e86c646487241be6e44262b182f0fbfdc2c00f2a4a0b7b3f0c499137957d81c1 (from https://pypi.org/simple/ping/). Command errored out with exit status 1: python setup.py egg_info Check the logs for full command output.\u001b[0m\n",
            "Collecting ngrok\n",
            "  Downloading ngrok-0.1.5.tar.gz (3.5 kB)\n",
            "  Downloading ngrok-0.1.4-py3-none-any.whl (4.3 kB)\n",
            "  Downloading ngrok-0.0.1.tar.gz (1.4 kB)\n",
            "Building wheels for collected packages: ngrok\n",
            "  Building wheel for ngrok (setup.py) ... \u001b[?25l\u001b[?25hdone\n",
            "  Created wheel for ngrok: filename=ngrok-0.0.1-py3-none-any.whl size=3061 sha256=b25c17d652d0114ef43f24c0a994dbfebf39ee02d33be1daf486c936dd96b8fc\n",
            "  Stored in directory: /root/.cache/pip/wheels/b2/f2/1e/11e57b35a7c1ea622a4cff4d9622bebd373f6371f3b1728a00\n",
            "Successfully built ngrok\n",
            "Installing collected packages: ngrok\n",
            "Successfully installed ngrok-0.0.1\n",
            "Looking in indexes: https://pypi.org/simple, https://us-python.pkg.dev/colab-wheels/public/simple/\n",
            "Collecting uvicorn\n",
            "  Downloading uvicorn-0.18.2-py3-none-any.whl (57 kB)\n",
            "\u001b[K     |████████████████████████████████| 57 kB 3.1 MB/s \n",
            "\u001b[?25hRequirement already satisfied: typing-extensions in /usr/local/lib/python3.7/dist-packages (from uvicorn) (4.1.1)\n",
            "Collecting h11>=0.8\n",
            "  Downloading h11-0.13.0-py3-none-any.whl (58 kB)\n",
            "\u001b[K     |████████████████████████████████| 58 kB 5.7 MB/s \n",
            "\u001b[?25hRequirement already satisfied: click>=7.0 in /usr/local/lib/python3.7/dist-packages (from uvicorn) (7.1.2)\n",
            "Installing collected packages: h11, uvicorn\n",
            "Successfully installed h11-0.13.0 uvicorn-0.18.2\n",
            "Looking in indexes: https://pypi.org/simple, https://us-python.pkg.dev/colab-wheels/public/simple/\n",
            "Requirement already satisfied: nest-asyncio in /usr/local/lib/python3.7/dist-packages (1.5.5)\n",
            "Looking in indexes: https://pypi.org/simple, https://us-python.pkg.dev/colab-wheels/public/simple/\n",
            "Collecting FastAPI\n",
            "  Downloading fastapi-0.79.0-py3-none-any.whl (54 kB)\n",
            "\u001b[K     |████████████████████████████████| 54 kB 2.8 MB/s \n",
            "\u001b[?25hRequirement already satisfied: pydantic!=1.7,!=1.7.1,!=1.7.2,!=1.7.3,!=1.8,!=1.8.1,<2.0.0,>=1.6.2 in /usr/local/lib/python3.7/dist-packages (from FastAPI) (1.9.1)\n",
            "Collecting starlette==0.19.1\n",
            "  Downloading starlette-0.19.1-py3-none-any.whl (63 kB)\n",
            "\u001b[K     |████████████████████████████████| 63 kB 2.5 MB/s \n",
            "\u001b[?25hRequirement already satisfied: typing-extensions>=3.10.0 in /usr/local/lib/python3.7/dist-packages (from starlette==0.19.1->FastAPI) (4.1.1)\n",
            "Collecting anyio<5,>=3.4.0\n",
            "  Downloading anyio-3.6.1-py3-none-any.whl (80 kB)\n",
            "\u001b[K     |████████████████████████████████| 80 kB 9.8 MB/s \n",
            "\u001b[?25hRequirement already satisfied: idna>=2.8 in /usr/local/lib/python3.7/dist-packages (from anyio<5,>=3.4.0->starlette==0.19.1->FastAPI) (2.10)\n",
            "Collecting sniffio>=1.1\n",
            "  Downloading sniffio-1.2.0-py3-none-any.whl (10 kB)\n",
            "Installing collected packages: sniffio, anyio, starlette, FastAPI\n",
            "Successfully installed FastAPI-0.79.0 anyio-3.6.1 sniffio-1.2.0 starlette-0.19.1\n"
          ]
        }
      ]
    },
    {
      "cell_type": "code",
      "execution_count": 2,
      "metadata": {
        "id": "tov8S1RutukV"
      },
      "outputs": [],
      "source": [
        "import pandas as pd\n",
        "import numpy as np\n",
        "from sklearn.tree import DecisionTreeClassifier\n",
        "from sklearn.model_selection import train_test_split \n",
        "from sklearn import metrics \n",
        "import pickle\n",
        "from fastapi import FastAPI\n",
        "import uvicorn\n",
        "import nest_asyncio\n",
        "from pyngrok import ngrok"
      ]
    },
    {
      "cell_type": "markdown",
      "source": [
        "#Comprobando el dataset"
      ],
      "metadata": {
        "id": "t57L4O1_W1xy"
      }
    },
    {
      "cell_type": "code",
      "source": [
        "#cargando el dataset\n",
        "df = pd.read_csv(\"/content/cleaned.csv\")\n",
        "df.head()"
      ],
      "metadata": {
        "colab": {
          "base_uri": "https://localhost:8080/",
          "height": 206
        },
        "id": "bPG7nU86uDTg",
        "outputId": "a5d1314c-a375-424a-9282-37eb57340b2e"
      },
      "execution_count": 3,
      "outputs": [
        {
          "output_type": "execute_result",
          "data": {
            "text/plain": [
              "   track_id genre_top  acousticness  danceability    energy  instrumentalness  \\\n",
              "0       153      Rock      0.988306      0.255661  0.979774          0.973006   \n",
              "1       154      Rock      0.970135      0.352946  0.023852          0.957113   \n",
              "2       155      Rock      0.981657      0.142249  0.912122          0.967294   \n",
              "3       169      Rock      0.989141      0.225978  0.722835          0.263076   \n",
              "4       170      Rock      0.886660      0.298518  0.744333          0.920950   \n",
              "\n",
              "   liveness  speechiness   tempo   valence  \n",
              "0  0.121342     0.051740  90.241  0.034018  \n",
              "1  0.113261     0.032177  53.758  0.035632  \n",
              "2  0.363510     0.087527  91.912  0.034325  \n",
              "3  0.092371     0.053406  94.322  0.028347  \n",
              "4  0.139587     0.088781  97.880  0.073548  "
            ],
            "text/html": [
              "\n",
              "  <div id=\"df-b5b3cc57-944d-4d46-ae32-c1c9a41fe7fd\">\n",
              "    <div class=\"colab-df-container\">\n",
              "      <div>\n",
              "<style scoped>\n",
              "    .dataframe tbody tr th:only-of-type {\n",
              "        vertical-align: middle;\n",
              "    }\n",
              "\n",
              "    .dataframe tbody tr th {\n",
              "        vertical-align: top;\n",
              "    }\n",
              "\n",
              "    .dataframe thead th {\n",
              "        text-align: right;\n",
              "    }\n",
              "</style>\n",
              "<table border=\"1\" class=\"dataframe\">\n",
              "  <thead>\n",
              "    <tr style=\"text-align: right;\">\n",
              "      <th></th>\n",
              "      <th>track_id</th>\n",
              "      <th>genre_top</th>\n",
              "      <th>acousticness</th>\n",
              "      <th>danceability</th>\n",
              "      <th>energy</th>\n",
              "      <th>instrumentalness</th>\n",
              "      <th>liveness</th>\n",
              "      <th>speechiness</th>\n",
              "      <th>tempo</th>\n",
              "      <th>valence</th>\n",
              "    </tr>\n",
              "  </thead>\n",
              "  <tbody>\n",
              "    <tr>\n",
              "      <th>0</th>\n",
              "      <td>153</td>\n",
              "      <td>Rock</td>\n",
              "      <td>0.988306</td>\n",
              "      <td>0.255661</td>\n",
              "      <td>0.979774</td>\n",
              "      <td>0.973006</td>\n",
              "      <td>0.121342</td>\n",
              "      <td>0.051740</td>\n",
              "      <td>90.241</td>\n",
              "      <td>0.034018</td>\n",
              "    </tr>\n",
              "    <tr>\n",
              "      <th>1</th>\n",
              "      <td>154</td>\n",
              "      <td>Rock</td>\n",
              "      <td>0.970135</td>\n",
              "      <td>0.352946</td>\n",
              "      <td>0.023852</td>\n",
              "      <td>0.957113</td>\n",
              "      <td>0.113261</td>\n",
              "      <td>0.032177</td>\n",
              "      <td>53.758</td>\n",
              "      <td>0.035632</td>\n",
              "    </tr>\n",
              "    <tr>\n",
              "      <th>2</th>\n",
              "      <td>155</td>\n",
              "      <td>Rock</td>\n",
              "      <td>0.981657</td>\n",
              "      <td>0.142249</td>\n",
              "      <td>0.912122</td>\n",
              "      <td>0.967294</td>\n",
              "      <td>0.363510</td>\n",
              "      <td>0.087527</td>\n",
              "      <td>91.912</td>\n",
              "      <td>0.034325</td>\n",
              "    </tr>\n",
              "    <tr>\n",
              "      <th>3</th>\n",
              "      <td>169</td>\n",
              "      <td>Rock</td>\n",
              "      <td>0.989141</td>\n",
              "      <td>0.225978</td>\n",
              "      <td>0.722835</td>\n",
              "      <td>0.263076</td>\n",
              "      <td>0.092371</td>\n",
              "      <td>0.053406</td>\n",
              "      <td>94.322</td>\n",
              "      <td>0.028347</td>\n",
              "    </tr>\n",
              "    <tr>\n",
              "      <th>4</th>\n",
              "      <td>170</td>\n",
              "      <td>Rock</td>\n",
              "      <td>0.886660</td>\n",
              "      <td>0.298518</td>\n",
              "      <td>0.744333</td>\n",
              "      <td>0.920950</td>\n",
              "      <td>0.139587</td>\n",
              "      <td>0.088781</td>\n",
              "      <td>97.880</td>\n",
              "      <td>0.073548</td>\n",
              "    </tr>\n",
              "  </tbody>\n",
              "</table>\n",
              "</div>\n",
              "      <button class=\"colab-df-convert\" onclick=\"convertToInteractive('df-b5b3cc57-944d-4d46-ae32-c1c9a41fe7fd')\"\n",
              "              title=\"Convert this dataframe to an interactive table.\"\n",
              "              style=\"display:none;\">\n",
              "        \n",
              "  <svg xmlns=\"http://www.w3.org/2000/svg\" height=\"24px\"viewBox=\"0 0 24 24\"\n",
              "       width=\"24px\">\n",
              "    <path d=\"M0 0h24v24H0V0z\" fill=\"none\"/>\n",
              "    <path d=\"M18.56 5.44l.94 2.06.94-2.06 2.06-.94-2.06-.94-.94-2.06-.94 2.06-2.06.94zm-11 1L8.5 8.5l.94-2.06 2.06-.94-2.06-.94L8.5 2.5l-.94 2.06-2.06.94zm10 10l.94 2.06.94-2.06 2.06-.94-2.06-.94-.94-2.06-.94 2.06-2.06.94z\"/><path d=\"M17.41 7.96l-1.37-1.37c-.4-.4-.92-.59-1.43-.59-.52 0-1.04.2-1.43.59L10.3 9.45l-7.72 7.72c-.78.78-.78 2.05 0 2.83L4 21.41c.39.39.9.59 1.41.59.51 0 1.02-.2 1.41-.59l7.78-7.78 2.81-2.81c.8-.78.8-2.07 0-2.86zM5.41 20L4 18.59l7.72-7.72 1.47 1.35L5.41 20z\"/>\n",
              "  </svg>\n",
              "      </button>\n",
              "      \n",
              "  <style>\n",
              "    .colab-df-container {\n",
              "      display:flex;\n",
              "      flex-wrap:wrap;\n",
              "      gap: 12px;\n",
              "    }\n",
              "\n",
              "    .colab-df-convert {\n",
              "      background-color: #E8F0FE;\n",
              "      border: none;\n",
              "      border-radius: 50%;\n",
              "      cursor: pointer;\n",
              "      display: none;\n",
              "      fill: #1967D2;\n",
              "      height: 32px;\n",
              "      padding: 0 0 0 0;\n",
              "      width: 32px;\n",
              "    }\n",
              "\n",
              "    .colab-df-convert:hover {\n",
              "      background-color: #E2EBFA;\n",
              "      box-shadow: 0px 1px 2px rgba(60, 64, 67, 0.3), 0px 1px 3px 1px rgba(60, 64, 67, 0.15);\n",
              "      fill: #174EA6;\n",
              "    }\n",
              "\n",
              "    [theme=dark] .colab-df-convert {\n",
              "      background-color: #3B4455;\n",
              "      fill: #D2E3FC;\n",
              "    }\n",
              "\n",
              "    [theme=dark] .colab-df-convert:hover {\n",
              "      background-color: #434B5C;\n",
              "      box-shadow: 0px 1px 3px 1px rgba(0, 0, 0, 0.15);\n",
              "      filter: drop-shadow(0px 1px 2px rgba(0, 0, 0, 0.3));\n",
              "      fill: #FFFFFF;\n",
              "    }\n",
              "  </style>\n",
              "\n",
              "      <script>\n",
              "        const buttonEl =\n",
              "          document.querySelector('#df-b5b3cc57-944d-4d46-ae32-c1c9a41fe7fd button.colab-df-convert');\n",
              "        buttonEl.style.display =\n",
              "          google.colab.kernel.accessAllowed ? 'block' : 'none';\n",
              "\n",
              "        async function convertToInteractive(key) {\n",
              "          const element = document.querySelector('#df-b5b3cc57-944d-4d46-ae32-c1c9a41fe7fd');\n",
              "          const dataTable =\n",
              "            await google.colab.kernel.invokeFunction('convertToInteractive',\n",
              "                                                     [key], {});\n",
              "          if (!dataTable) return;\n",
              "\n",
              "          const docLinkHtml = 'Like what you see? Visit the ' +\n",
              "            '<a target=\"_blank\" href=https://colab.research.google.com/notebooks/data_table.ipynb>data table notebook</a>'\n",
              "            + ' to learn more about interactive tables.';\n",
              "          element.innerHTML = '';\n",
              "          dataTable['output_type'] = 'display_data';\n",
              "          await google.colab.output.renderOutput(dataTable, element);\n",
              "          const docLink = document.createElement('div');\n",
              "          docLink.innerHTML = docLinkHtml;\n",
              "          element.appendChild(docLink);\n",
              "        }\n",
              "      </script>\n",
              "    </div>\n",
              "  </div>\n",
              "  "
            ]
          },
          "metadata": {},
          "execution_count": 3
        }
      ]
    },
    {
      "cell_type": "code",
      "source": [
        "#Numero de filas y columnas\n",
        "print(\"columnas = \", df.shape[1])\n",
        "print(\"filas = \", df.shape[0])"
      ],
      "metadata": {
        "colab": {
          "base_uri": "https://localhost:8080/"
        },
        "id": "oz9vXWtkukcO",
        "outputId": "36cf0970-e175-41e7-d392-36590a0c7b1f"
      },
      "execution_count": 4,
      "outputs": [
        {
          "output_type": "stream",
          "name": "stdout",
          "text": [
            "columnas =  10\n",
            "filas =  4802\n"
          ]
        }
      ]
    },
    {
      "cell_type": "code",
      "source": [
        "#Calculando la media, mediana, maximo, minimo, etc\n",
        "df.describe()"
      ],
      "metadata": {
        "colab": {
          "base_uri": "https://localhost:8080/",
          "height": 301
        },
        "id": "pHxMkAR3vZNw",
        "outputId": "98ceb8fd-9cef-4f2d-92c5-5e4a3c13c8e8"
      },
      "execution_count": 5,
      "outputs": [
        {
          "output_type": "execute_result",
          "data": {
            "text/plain": [
              "            track_id  acousticness  danceability       energy  \\\n",
              "count    4802.000000  4.802000e+03   4802.000000  4802.000000   \n",
              "mean    30164.871720  4.870600e-01      0.436556     0.625126   \n",
              "std     28592.013796  3.681396e-01      0.183502     0.244051   \n",
              "min         2.000000  9.491000e-07      0.051307     0.000279   \n",
              "25%      7494.250000  8.351236e-02      0.296047     0.450757   \n",
              "50%     20723.500000  5.156888e-01      0.419447     0.648374   \n",
              "75%     44240.750000  8.555765e-01      0.565339     0.837016   \n",
              "max    124722.000000  9.957965e-01      0.961871     0.999768   \n",
              "\n",
              "       instrumentalness     liveness  speechiness        tempo      valence  \n",
              "count       4802.000000  4802.000000  4802.000000  4802.000000  4802.000000  \n",
              "mean           0.604096     0.187997     0.104877   126.687944     0.453413  \n",
              "std            0.376487     0.150562     0.145934    34.002473     0.266632  \n",
              "min            0.000000     0.025297     0.023234    29.093000     0.014392  \n",
              "25%            0.164972     0.104052     0.036897    98.000750     0.224617  \n",
              "50%            0.808752     0.123080     0.049594   124.625500     0.446240  \n",
              "75%            0.915472     0.215151     0.088290   151.450000     0.666914  \n",
              "max            0.993134     0.971392     0.966177   250.059000     0.983649  "
            ],
            "text/html": [
              "\n",
              "  <div id=\"df-2d921d90-3994-4b9c-ad73-5909912dc0b6\">\n",
              "    <div class=\"colab-df-container\">\n",
              "      <div>\n",
              "<style scoped>\n",
              "    .dataframe tbody tr th:only-of-type {\n",
              "        vertical-align: middle;\n",
              "    }\n",
              "\n",
              "    .dataframe tbody tr th {\n",
              "        vertical-align: top;\n",
              "    }\n",
              "\n",
              "    .dataframe thead th {\n",
              "        text-align: right;\n",
              "    }\n",
              "</style>\n",
              "<table border=\"1\" class=\"dataframe\">\n",
              "  <thead>\n",
              "    <tr style=\"text-align: right;\">\n",
              "      <th></th>\n",
              "      <th>track_id</th>\n",
              "      <th>acousticness</th>\n",
              "      <th>danceability</th>\n",
              "      <th>energy</th>\n",
              "      <th>instrumentalness</th>\n",
              "      <th>liveness</th>\n",
              "      <th>speechiness</th>\n",
              "      <th>tempo</th>\n",
              "      <th>valence</th>\n",
              "    </tr>\n",
              "  </thead>\n",
              "  <tbody>\n",
              "    <tr>\n",
              "      <th>count</th>\n",
              "      <td>4802.000000</td>\n",
              "      <td>4.802000e+03</td>\n",
              "      <td>4802.000000</td>\n",
              "      <td>4802.000000</td>\n",
              "      <td>4802.000000</td>\n",
              "      <td>4802.000000</td>\n",
              "      <td>4802.000000</td>\n",
              "      <td>4802.000000</td>\n",
              "      <td>4802.000000</td>\n",
              "    </tr>\n",
              "    <tr>\n",
              "      <th>mean</th>\n",
              "      <td>30164.871720</td>\n",
              "      <td>4.870600e-01</td>\n",
              "      <td>0.436556</td>\n",
              "      <td>0.625126</td>\n",
              "      <td>0.604096</td>\n",
              "      <td>0.187997</td>\n",
              "      <td>0.104877</td>\n",
              "      <td>126.687944</td>\n",
              "      <td>0.453413</td>\n",
              "    </tr>\n",
              "    <tr>\n",
              "      <th>std</th>\n",
              "      <td>28592.013796</td>\n",
              "      <td>3.681396e-01</td>\n",
              "      <td>0.183502</td>\n",
              "      <td>0.244051</td>\n",
              "      <td>0.376487</td>\n",
              "      <td>0.150562</td>\n",
              "      <td>0.145934</td>\n",
              "      <td>34.002473</td>\n",
              "      <td>0.266632</td>\n",
              "    </tr>\n",
              "    <tr>\n",
              "      <th>min</th>\n",
              "      <td>2.000000</td>\n",
              "      <td>9.491000e-07</td>\n",
              "      <td>0.051307</td>\n",
              "      <td>0.000279</td>\n",
              "      <td>0.000000</td>\n",
              "      <td>0.025297</td>\n",
              "      <td>0.023234</td>\n",
              "      <td>29.093000</td>\n",
              "      <td>0.014392</td>\n",
              "    </tr>\n",
              "    <tr>\n",
              "      <th>25%</th>\n",
              "      <td>7494.250000</td>\n",
              "      <td>8.351236e-02</td>\n",
              "      <td>0.296047</td>\n",
              "      <td>0.450757</td>\n",
              "      <td>0.164972</td>\n",
              "      <td>0.104052</td>\n",
              "      <td>0.036897</td>\n",
              "      <td>98.000750</td>\n",
              "      <td>0.224617</td>\n",
              "    </tr>\n",
              "    <tr>\n",
              "      <th>50%</th>\n",
              "      <td>20723.500000</td>\n",
              "      <td>5.156888e-01</td>\n",
              "      <td>0.419447</td>\n",
              "      <td>0.648374</td>\n",
              "      <td>0.808752</td>\n",
              "      <td>0.123080</td>\n",
              "      <td>0.049594</td>\n",
              "      <td>124.625500</td>\n",
              "      <td>0.446240</td>\n",
              "    </tr>\n",
              "    <tr>\n",
              "      <th>75%</th>\n",
              "      <td>44240.750000</td>\n",
              "      <td>8.555765e-01</td>\n",
              "      <td>0.565339</td>\n",
              "      <td>0.837016</td>\n",
              "      <td>0.915472</td>\n",
              "      <td>0.215151</td>\n",
              "      <td>0.088290</td>\n",
              "      <td>151.450000</td>\n",
              "      <td>0.666914</td>\n",
              "    </tr>\n",
              "    <tr>\n",
              "      <th>max</th>\n",
              "      <td>124722.000000</td>\n",
              "      <td>9.957965e-01</td>\n",
              "      <td>0.961871</td>\n",
              "      <td>0.999768</td>\n",
              "      <td>0.993134</td>\n",
              "      <td>0.971392</td>\n",
              "      <td>0.966177</td>\n",
              "      <td>250.059000</td>\n",
              "      <td>0.983649</td>\n",
              "    </tr>\n",
              "  </tbody>\n",
              "</table>\n",
              "</div>\n",
              "      <button class=\"colab-df-convert\" onclick=\"convertToInteractive('df-2d921d90-3994-4b9c-ad73-5909912dc0b6')\"\n",
              "              title=\"Convert this dataframe to an interactive table.\"\n",
              "              style=\"display:none;\">\n",
              "        \n",
              "  <svg xmlns=\"http://www.w3.org/2000/svg\" height=\"24px\"viewBox=\"0 0 24 24\"\n",
              "       width=\"24px\">\n",
              "    <path d=\"M0 0h24v24H0V0z\" fill=\"none\"/>\n",
              "    <path d=\"M18.56 5.44l.94 2.06.94-2.06 2.06-.94-2.06-.94-.94-2.06-.94 2.06-2.06.94zm-11 1L8.5 8.5l.94-2.06 2.06-.94-2.06-.94L8.5 2.5l-.94 2.06-2.06.94zm10 10l.94 2.06.94-2.06 2.06-.94-2.06-.94-.94-2.06-.94 2.06-2.06.94z\"/><path d=\"M17.41 7.96l-1.37-1.37c-.4-.4-.92-.59-1.43-.59-.52 0-1.04.2-1.43.59L10.3 9.45l-7.72 7.72c-.78.78-.78 2.05 0 2.83L4 21.41c.39.39.9.59 1.41.59.51 0 1.02-.2 1.41-.59l7.78-7.78 2.81-2.81c.8-.78.8-2.07 0-2.86zM5.41 20L4 18.59l7.72-7.72 1.47 1.35L5.41 20z\"/>\n",
              "  </svg>\n",
              "      </button>\n",
              "      \n",
              "  <style>\n",
              "    .colab-df-container {\n",
              "      display:flex;\n",
              "      flex-wrap:wrap;\n",
              "      gap: 12px;\n",
              "    }\n",
              "\n",
              "    .colab-df-convert {\n",
              "      background-color: #E8F0FE;\n",
              "      border: none;\n",
              "      border-radius: 50%;\n",
              "      cursor: pointer;\n",
              "      display: none;\n",
              "      fill: #1967D2;\n",
              "      height: 32px;\n",
              "      padding: 0 0 0 0;\n",
              "      width: 32px;\n",
              "    }\n",
              "\n",
              "    .colab-df-convert:hover {\n",
              "      background-color: #E2EBFA;\n",
              "      box-shadow: 0px 1px 2px rgba(60, 64, 67, 0.3), 0px 1px 3px 1px rgba(60, 64, 67, 0.15);\n",
              "      fill: #174EA6;\n",
              "    }\n",
              "\n",
              "    [theme=dark] .colab-df-convert {\n",
              "      background-color: #3B4455;\n",
              "      fill: #D2E3FC;\n",
              "    }\n",
              "\n",
              "    [theme=dark] .colab-df-convert:hover {\n",
              "      background-color: #434B5C;\n",
              "      box-shadow: 0px 1px 3px 1px rgba(0, 0, 0, 0.15);\n",
              "      filter: drop-shadow(0px 1px 2px rgba(0, 0, 0, 0.3));\n",
              "      fill: #FFFFFF;\n",
              "    }\n",
              "  </style>\n",
              "\n",
              "      <script>\n",
              "        const buttonEl =\n",
              "          document.querySelector('#df-2d921d90-3994-4b9c-ad73-5909912dc0b6 button.colab-df-convert');\n",
              "        buttonEl.style.display =\n",
              "          google.colab.kernel.accessAllowed ? 'block' : 'none';\n",
              "\n",
              "        async function convertToInteractive(key) {\n",
              "          const element = document.querySelector('#df-2d921d90-3994-4b9c-ad73-5909912dc0b6');\n",
              "          const dataTable =\n",
              "            await google.colab.kernel.invokeFunction('convertToInteractive',\n",
              "                                                     [key], {});\n",
              "          if (!dataTable) return;\n",
              "\n",
              "          const docLinkHtml = 'Like what you see? Visit the ' +\n",
              "            '<a target=\"_blank\" href=https://colab.research.google.com/notebooks/data_table.ipynb>data table notebook</a>'\n",
              "            + ' to learn more about interactive tables.';\n",
              "          element.innerHTML = '';\n",
              "          dataTable['output_type'] = 'display_data';\n",
              "          await google.colab.output.renderOutput(dataTable, element);\n",
              "          const docLink = document.createElement('div');\n",
              "          docLink.innerHTML = docLinkHtml;\n",
              "          element.appendChild(docLink);\n",
              "        }\n",
              "      </script>\n",
              "    </div>\n",
              "  </div>\n",
              "  "
            ]
          },
          "metadata": {},
          "execution_count": 5
        }
      ]
    },
    {
      "cell_type": "markdown",
      "source": [
        "#Entrenando al modelo"
      ],
      "metadata": {
        "id": "MN9OgPDJW7Dx"
      }
    },
    {
      "cell_type": "code",
      "source": [
        "#dividiendo el dataset en features y variable objetivo\n",
        "feature_cols = [\"acousticness\",\"danceability\",\"energy\",\"instrumentalness\",\"liveness\",\"speechiness\",\"tempo\",\"valence\"]\n",
        "X = df[feature_cols] # Features\n",
        "y = df.genre_top # variable objetivo"
      ],
      "metadata": {
        "id": "XZnIwN5cvtCA"
      },
      "execution_count": 6,
      "outputs": []
    },
    {
      "cell_type": "code",
      "source": [
        "#Dividiendo el dateaset en entrenamiento y pruebas\n",
        "X_train, X_test, y_train, y_test = train_test_split(X, y, test_size=0.3, random_state=1) # 70% entrenamiento 30% pruebas"
      ],
      "metadata": {
        "id": "ycjVecMH16y0"
      },
      "execution_count": 7,
      "outputs": []
    },
    {
      "cell_type": "code",
      "source": [
        "#Configurando el modelo\n",
        "dtc = DecisionTreeClassifier(criterion=\"entropy\", max_depth=3)\n",
        "\n",
        "# entrenando el Decision Tree Classifer\n",
        "dtc = dtc.fit(X_train.values,y_train.values)\n",
        "\n",
        "#Calculando las predicciones\n",
        "y_pred = dtc.predict(X_test.values)"
      ],
      "metadata": {
        "id": "eXuVxGJI2ps1"
      },
      "execution_count": 8,
      "outputs": []
    },
    {
      "cell_type": "code",
      "source": [
        "#Presicion del modelo\n",
        "print(\"Accuracy:\",metrics.accuracy_score(y_test, y_pred))"
      ],
      "metadata": {
        "colab": {
          "base_uri": "https://localhost:8080/"
        },
        "id": "EF8nc_-42tFB",
        "outputId": "2aa57cd2-c29c-4659-d75e-77cc8344f2b3"
      },
      "execution_count": 9,
      "outputs": [
        {
          "output_type": "stream",
          "name": "stdout",
          "text": [
            "Accuracy: 0.9000693962526024\n"
          ]
        }
      ]
    },
    {
      "cell_type": "markdown",
      "source": [
        "#Exportacion del modelo"
      ],
      "metadata": {
        "id": "uKevPnV8XM_D"
      }
    },
    {
      "cell_type": "code",
      "source": [
        "#Exportando el modelo con pickle\n",
        "pickle.dump(dtc, open(\"Genre_predict.pkl\",\"wb\"))\n"
      ],
      "metadata": {
        "id": "EK9sYAn922EI"
      },
      "execution_count": 10,
      "outputs": []
    },
    {
      "cell_type": "markdown",
      "source": [
        "#Creando la clase para las predicciones"
      ],
      "metadata": {
        "id": "332FqTV7djqY"
      }
    },
    {
      "cell_type": "code",
      "source": [
        "from pydantic import BaseModel\n",
        "\n",
        "class Music(BaseModel):\n",
        "    acousticness : float \n",
        "    danceability : float\n",
        "    energy : float\n",
        "    instrumentalness : float\n",
        "    liveness : float\n",
        "    speechiness : float\n",
        "    tempo : float\n",
        "    valence : float\n",
        "    class Config:\n",
        "        schema_extra = {   #EJEMPLO DE LOS DATOS QUE SE LE INSERTARÍAN\n",
        "            \"example\": {\n",
        "                \"acousticness\" : 0.988306,\n",
        "                \"danceability\" : 0.255661,\n",
        "                \"energy\" : 0.979774,\n",
        "                \"instrumentalness\" : 0.973006,\n",
        "                \"liveness\" : 0.121342,\n",
        "                \"speechiness\" : 0.051740,\n",
        "                \"tempo\" : 90.241,\n",
        "                \"valence\" : 0.034018\n",
        "            }\n",
        "        }"
      ],
      "metadata": {
        "id": "rTZTnGw2doqs"
      },
      "execution_count": 11,
      "outputs": []
    },
    {
      "cell_type": "markdown",
      "source": [
        "#Configurando la API"
      ],
      "metadata": {
        "id": "SlJ-cNrYdxpN"
      }
    },
    {
      "cell_type": "code",
      "source": [
        "#creando la API\n",
        "app = FastAPI()\n",
        "\n",
        "@app.on_event(\"startup\") #Funcion que se ejecuta en el arranque de la API\n",
        "def load_model():#Carga el modelo\n",
        "  global model\n",
        "  #cargando modelo\n",
        "  model = pickle.load(open(\"Genre_predict.pkl\",\"rb\"))\n",
        "\n",
        "#Mensaje que indica que la API inicio exitosamente\n",
        "@app.get(\"/\")\n",
        "def index():\n",
        "  return {\"PUNTO DE ACCESO API\"}\n",
        "\n",
        "#Funcion para crear la prediccion\n",
        "@app.post('/predict')\n",
        "def get_music_category(data: Music):\n",
        "  received = data.dict()\n",
        "  acousticness = received['acousticness']\n",
        "  danceability = received['danceability']\n",
        "  energy = received['energy']\n",
        "  instrumentalness = received['instrumentalness']\n",
        "  liveness = received['liveness']\n",
        "  speechiness = received['speechiness']\n",
        "  tempo = received['tempo']\n",
        "  valence = received['valence']\n",
        "  #Creando la prediccion  \n",
        "  prediction = model.predict([[acousticness,danceability,energy,instrumentalness,liveness,speechiness,tempo,valence]]).tolist()[0]\n",
        "  return {'prediction': prediction} #Y regresa esa predicción.\n",
        "   \n",
        "    "
      ],
      "metadata": {
        "id": "dIFo8HHE-Uwl"
      },
      "execution_count": 12,
      "outputs": []
    },
    {
      "cell_type": "code",
      "source": [
        "! ngrok authtoken 2DGCG0eBlOi7BPf6BRkDaEbhXVl_3c2WJ72qywkPtQGQfCkGK #PONER TU AUTHTOKEN."
      ],
      "metadata": {
        "colab": {
          "base_uri": "https://localhost:8080/"
        },
        "id": "zBvVjifki1gr",
        "outputId": "308f47c6-be1a-4aa8-ab5c-58eff2701141"
      },
      "execution_count": 13,
      "outputs": [
        {
          "output_type": "stream",
          "name": "stdout",
          "text": [
            "Authtoken saved to configuration file: /root/.ngrok2/ngrok.yml\n"
          ]
        }
      ]
    },
    {
      "cell_type": "code",
      "source": [
        "#Iniciando la Api\n",
        "ngrok_tunnel = ngrok.connect(8000)\n",
        "print('Public URL:', ngrok_tunnel.public_url)\n",
        "nest_asyncio.apply()\n",
        "uvicorn.run(app, port=8000)"
      ],
      "metadata": {
        "id": "IoVygCh3HPl5",
        "colab": {
          "base_uri": "https://localhost:8080/"
        },
        "outputId": "2d1516c2-fffe-4f4f-eb10-c189f1270eed"
      },
      "execution_count": 14,
      "outputs": [
        {
          "output_type": "stream",
          "name": "stderr",
          "text": [
            "INFO:     Started server process [60]\n",
            "INFO:uvicorn.error:Started server process [60]\n",
            "INFO:     Waiting for application startup.\n",
            "INFO:uvicorn.error:Waiting for application startup.\n",
            "INFO:     Application startup complete.\n",
            "INFO:uvicorn.error:Application startup complete.\n",
            "INFO:     Uvicorn running on http://127.0.0.1:8000 (Press CTRL+C to quit)\n",
            "INFO:uvicorn.error:Uvicorn running on http://127.0.0.1:8000 (Press CTRL+C to quit)\n"
          ]
        },
        {
          "output_type": "stream",
          "name": "stdout",
          "text": [
            "Public URL: http://20ba-34-86-224-90.ngrok.io\n",
            "INFO:     200.68.151.21:0 - \"GET / HTTP/1.1\" 200 OK\n",
            "INFO:     200.68.151.21:0 - \"GET /favicon.ico HTTP/1.1\" 404 Not Found\n",
            "INFO:     200.68.151.21:0 - \"GET /docs HTTP/1.1\" 200 OK\n",
            "INFO:     200.68.151.21:0 - \"GET /openapi.json HTTP/1.1\" 200 OK\n",
            "INFO:     200.68.151.21:0 - \"POST /predict HTTP/1.1\" 200 OK\n",
            "INFO:     200.68.151.21:0 - \"POST /predict HTTP/1.1\" 200 OK\n",
            "INFO:     200.68.151.21:0 - \"POST /predict HTTP/1.1\" 200 OK\n",
            "INFO:     200.68.151.21:0 - \"POST /predict HTTP/1.1\" 200 OK\n",
            "INFO:     200.68.151.21:0 - \"POST /predict HTTP/1.1\" 200 OK\n",
            "INFO:     200.68.151.21:0 - \"POST /predict HTTP/1.1\" 200 OK\n"
          ]
        },
        {
          "output_type": "stream",
          "name": "stderr",
          "text": [
            "INFO:     Shutting down\n",
            "INFO:uvicorn.error:Shutting down\n",
            "INFO:     Waiting for application shutdown.\n",
            "INFO:uvicorn.error:Waiting for application shutdown.\n",
            "INFO:     Application shutdown complete.\n",
            "INFO:uvicorn.error:Application shutdown complete.\n",
            "INFO:     Finished server process [60]\n",
            "INFO:uvicorn.error:Finished server process [60]\n"
          ]
        }
      ]
    },
    {
      "cell_type": "code",
      "source": [
        "ngrok.kill()"
      ],
      "metadata": {
        "id": "gzREPvGXhrep"
      },
      "execution_count": 16,
      "outputs": []
    }
  ]
}