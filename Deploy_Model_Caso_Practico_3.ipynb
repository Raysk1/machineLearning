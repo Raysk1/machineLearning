{
  "nbformat": 4,
  "nbformat_minor": 0,
  "metadata": {
    "colab": {
      "name": "Deploy_Model_Caso_Practico_3.ipynb",
      "provenance": [],
      "collapsed_sections": [],
      "authorship_tag": "ABX9TyMLSEFr2B5ylj54U8GkF5Hm",
      "include_colab_link": true
    },
    "kernelspec": {
      "name": "python3",
      "display_name": "Python 3"
    },
    "language_info": {
      "name": "python"
    }
  },
  "cells": [
    {
      "cell_type": "markdown",
      "metadata": {
        "id": "view-in-github",
        "colab_type": "text"
      },
      "source": [
        "<a href=\"https://colab.research.google.com/github/Raysk1/machineLearning/blob/main/Deploy_Model_Caso_Practico_3.ipynb\" target=\"_parent\"><img src=\"https://colab.research.google.com/assets/colab-badge.svg\" alt=\"Open In Colab\"/></a>"
      ]
    },
    {
      "cell_type": "code",
      "execution_count": 1,
      "metadata": {
        "id": "9CGdndenHr5-",
        "colab": {
          "base_uri": "https://localhost:8080/"
        },
        "outputId": "cbec76be-51ae-45bb-e242-4acfe4f40d78"
      },
      "outputs": [
        {
          "output_type": "stream",
          "name": "stdout",
          "text": [
            "\u001b[K     |████████████████████████████████| 54 kB 889 kB/s \n",
            "\u001b[K     |████████████████████████████████| 63 kB 1.8 MB/s \n",
            "\u001b[K     |████████████████████████████████| 80 kB 9.7 MB/s \n",
            "\u001b[K     |████████████████████████████████| 57 kB 4.9 MB/s \n",
            "\u001b[K     |████████████████████████████████| 58 kB 6.1 MB/s \n",
            "\u001b[K     |████████████████████████████████| 745 kB 18.5 MB/s \n",
            "\u001b[?25h  Building wheel for pyngrok (setup.py) ... \u001b[?25l\u001b[?25hdone\n"
          ]
        }
      ],
      "source": [
        "!pip install FastAPI -q\n",
        "from fastapi import FastAPI\n",
        "!pip install uvicorn -q\n",
        "import uvicorn\n",
        "import pickle\n",
        "import nest_asyncio\n",
        "!pip install pyngrok -q\n",
        "from pyngrok import ngrok\n",
        "import numpy as np\n"
      ]
    },
    {
      "cell_type": "code",
      "source": [
        "#cargando modelo\n",
        "model = pickle.load(open(\"Genre_predict.pkl\",\"rb\"))"
      ],
      "metadata": {
        "id": "PiP6grXSH_Re"
      },
      "execution_count": 2,
      "outputs": []
    },
    {
      "cell_type": "code",
      "source": [
        "#creando el endpoint\n",
        "app = FastAPI()\n",
        "\n",
        "@app.get(\"/\")\n",
        "def predict(acousticness : float, danceability : float,energy : float,instrumentalness : float,liveness : float,speechiness : float,tempo : float,valence : float):\n",
        "      data = np.array([[acousticness,danceability,energy,instrumentalness,liveness,speechiness,tempo,valence]])\n",
        "      prediction = model.predict(data)\n",
        "      result = {\"prediction\": prediction[0]}\n",
        "      return result"
      ],
      "metadata": {
        "id": "dIFo8HHE-Uwl"
      },
      "execution_count": 3,
      "outputs": []
    },
    {
      "cell_type": "code",
      "source": [
        "#Iniciando la Api\n",
        "ngrok_tunnel = ngrok.connect(8000)\n",
        "print('Public URL:', ngrok_tunnel.public_url)\n",
        "nest_asyncio.apply()\n",
        "uvicorn.run(app, port=8000)"
      ],
      "metadata": {
        "id": "IoVygCh3HPl5",
        "colab": {
          "base_uri": "https://localhost:8080/"
        },
        "outputId": "f9bb289e-18c8-4372-d8b1-d407807a302d"
      },
      "execution_count": 4,
      "outputs": [
        {
          "output_type": "stream",
          "name": "stdout",
          "text": [
            ""
          ]
        },
        {
          "output_type": "stream",
          "name": "stderr",
          "text": [
            "INFO:     Started server process [60]\n",
            "INFO:     Waiting for application startup.\n",
            "INFO:     Application startup complete.\n",
            "INFO:     Uvicorn running on http://127.0.0.1:8000 (Press CTRL+C to quit)\n"
          ]
        },
        {
          "output_type": "stream",
          "name": "stdout",
          "text": [
            "Public URL: http://eb6b-34-86-61-104.ngrok.io\n",
            "INFO:     35.203.187.120:0 - \"GET /?acousticness=0.988306&danceability=0.255661&energy=0.979774&instrumentalness=0.973006&liveness=0.121342&speechiness=0.05174&tempo=90.241&valence=0.034018 HTTP/1.1\" 200 OK\n"
          ]
        },
        {
          "output_type": "stream",
          "name": "stderr",
          "text": [
            "INFO:     Shutting down\n",
            "INFO:     Waiting for application shutdown.\n",
            "INFO:     Application shutdown complete.\n",
            "INFO:     Finished server process [60]\n"
          ]
        }
      ]
    }
  ]
}