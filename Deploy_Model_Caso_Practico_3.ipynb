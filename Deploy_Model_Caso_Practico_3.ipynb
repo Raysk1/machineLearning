{
  "nbformat": 4,
  "nbformat_minor": 0,
  "metadata": {
    "colab": {
      "name": "Untitled2.ipynb",
      "provenance": [],
      "collapsed_sections": [],
      "authorship_tag": "ABX9TyOGgBkKVYliI7MQDQjrmINL",
      "include_colab_link": true
    },
    "kernelspec": {
      "name": "python3",
      "display_name": "Python 3"
    },
    "language_info": {
      "name": "python"
    }
  },
  "cells": [
    {
      "cell_type": "markdown",
      "metadata": {
        "id": "view-in-github",
        "colab_type": "text"
      },
      "source": [
        "<a href=\"https://colab.research.google.com/github/Raysk1/machineLearning/blob/main/Deploy_Model_Caso_Practico_3.ipynb\" target=\"_parent\"><img src=\"https://colab.research.google.com/assets/colab-badge.svg\" alt=\"Open In Colab\"/></a>"
      ]
    },
    {
      "cell_type": "code",
      "execution_count": 5,
      "metadata": {
        "id": "9CGdndenHr5-"
      },
      "outputs": [],
      "source": [
        "!pip install FastAPI -q\n",
        "from fastapi import FastAPI\n",
        "!pip install uvicorn -q\n",
        "import uvicorn\n",
        "import pickle\n",
        "import nest_asyncio\n",
        "!pip install pyngrok -q\n",
        "from pyngrok import ngrok\n",
        "import numpy as np\n",
        "from sklearn.tree import DecisionTreeClassifier"
      ]
    },
    {
      "cell_type": "code",
      "source": [
        "#cargando modelo\n",
        "model = pickle.load(open(\"Genre_predict.pkl\",\"rb\"))"
      ],
      "metadata": {
        "id": "PiP6grXSH_Re"
      },
      "execution_count": 6,
      "outputs": []
    },
    {
      "cell_type": "code",
      "source": [
        "class GenrePredictor:\n",
        "  def predict(acousticness : float, danceability : float,energy : float,instrumentalness : float,liveness : float,speechiness : float,tempo : float,valence : float):\n",
        "      data = np.array([acousticness,danceability,energy,instrumentalness,liveness,speechiness,tempo,valence])\n",
        "      prediction = model.predict(data)\n",
        "      result = {\"prediction\": prediction}\n",
        "      return result"
      ],
      "metadata": {
        "id": "5q_M4Ai_B3Yh"
      },
      "execution_count": null,
      "outputs": []
    },
    {
      "cell_type": "code",
      "source": [
        "#creando el endpoint\n",
        "app = FastAPI()\n",
        "\n",
        "@app.get(\"/\")\n",
        "def predict(acousticness : float, danceability : float,energy : float,instrumentalness : float,liveness : float,speechiness : float,tempo : float,valence : float):\n",
        "      data = np.array([[acousticness,danceability,energy,instrumentalness,liveness,speechiness,tempo,valence]])\n",
        "      prediction = model.predict(data)\n",
        "      result = {\"prediction\": prediction[0]}\n",
        "      return result"
      ],
      "metadata": {
        "id": "dIFo8HHE-Uwl"
      },
      "execution_count": 13,
      "outputs": []
    },
    {
      "cell_type": "code",
      "source": [
        "ngrok_tunnel = ngrok.connect(8000)\n",
        "print('Public URL:', ngrok_tunnel.public_url)\n",
        "nest_asyncio.apply()\n",
        "uvicorn.run(app, port=8000)"
      ],
      "metadata": {
        "id": "IoVygCh3HPl5",
        "colab": {
          "base_uri": "https://localhost:8080/"
        },
        "outputId": "edd60837-4806-4ab3-9e95-011c7a96166f"
      },
      "execution_count": 15,
      "outputs": [
        {
          "output_type": "stream",
          "name": "stdout",
          "text": [
            "Public URL: http://44e6-35-196-215-156.ngrok.io\n"
          ]
        },
        {
          "output_type": "stream",
          "name": "stderr",
          "text": [
            "INFO:     Started server process [709]\n",
            "INFO:     Waiting for application startup.\n",
            "INFO:     Application startup complete.\n",
            "INFO:     Uvicorn running on http://127.0.0.1:8000 (Press CTRL+C to quit)\n"
          ]
        },
        {
          "output_type": "stream",
          "name": "stdout",
          "text": [
            "INFO:     35.203.187.120:0 - \"GET /?acousticness=0.988306&danceability=0.255661&energy=0.979774&instrumentalness=0.973006&liveness=0.121342&speechiness=0.05174&tempo=90.241&valence=0.034018 HTTP/1.1\" 200 OK\n"
          ]
        },
        {
          "output_type": "stream",
          "name": "stderr",
          "text": [
            "INFO:     Shutting down\n",
            "INFO:     Waiting for application shutdown.\n",
            "INFO:     Application shutdown complete.\n",
            "INFO:     Finished server process [709]\n"
          ]
        }
      ]
    }
  ]
}